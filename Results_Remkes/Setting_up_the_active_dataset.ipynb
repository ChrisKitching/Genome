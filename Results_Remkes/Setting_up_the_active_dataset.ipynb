{
 "cells": [
  {
   "cell_type": "markdown",
   "metadata": {},
   "source": [
    "### Protein Composition Statistics\n",
    "\n",
    "The analysis functions are located in `./indels/proteins.py`, which draws general functions from `./indels/ind.py`"
   ]
  },
  {
   "cell_type": "code",
   "execution_count": 1,
   "metadata": {},
   "outputs": [],
   "source": [
    "# Perform the initialization and imports\n",
    "import sys\n",
    "import pickle\n",
    "import re\n",
    "import os\n",
    "import csv\n",
    "import argparse\n",
    "import math\n",
    "import pprint\n",
    "\n",
    "from string import ascii_lowercase\n",
    "from collections import Counter, defaultdict, OrderedDict\n",
    "\n",
    "import pandas as pd\n",
    "import numpy as np\n",
    "import matplotlib.pyplot as plt\n",
    "import seaborn as sns\n",
    "\n",
    "from Bio import SeqIO, AlignIO\n",
    "from Bio.SeqRecord import SeqRecord\n",
    "from Bio.Alphabet import IUPAC\n",
    "from Bio.Seq import Seq\n",
    "from Bio.Emboss.Applications import NeedleallCommandline\n",
    "\n",
    "# Demand Python 3.\n",
    "if sys.version_info[0] < 3:\n",
    "    print(\"Python 3 is required, but you are using Python %i.%i.%i\") % (\n",
    "        sys.version_info[0], sys.version_info[1], sys.version_info[2])\n",
    "    sys.exit(1)"
   ]
  },
  {
   "cell_type": "code",
   "execution_count": 2,
   "metadata": {},
   "outputs": [],
   "source": [
    "# Retrieve the specific functions from ind and proteins.py\n",
    "indels_path=\"/home/mp/InDelScanner\"  # /PATH/TO/InDelScanner\n",
    "if indels_path not in sys.path:\n",
    "    sys.path.append(indels_path)"
   ]
  },
  {
   "cell_type": "code",
   "execution_count": 3,
   "metadata": {},
   "outputs": [],
   "source": [
    "from ipynb.fs.defs.Library_diversity import convert_variant_to_dict"
   ]
  },
  {
   "cell_type": "code",
   "execution_count": 4,
   "metadata": {},
   "outputs": [],
   "source": [
    "os.chdir(\"/mnt/c/Users/Maya/Documents/03_Kinases/\")\n",
    "\n",
    "with open('mek.pickle', 'rb') as f:\n",
    "    mek = pickle.load(f)\n",
    "\n",
    "df_all = pd.DataFrame.from_dict(mek).fillna(0).sort_values(by=['high', 'med', 'low-t'], ascending=False)"
   ]
  },
  {
   "cell_type": "markdown",
   "metadata": {},
   "source": [
    "### How many variants are there?"
   ]
  },
  {
   "cell_type": "code",
   "execution_count": 5,
   "metadata": {},
   "outputs": [],
   "source": [
    "aa_2 = ['A', 'Δ']\n",
    "aa_12 = ['A','G','P','Y','D','K','M','V','I','L','F','W']\n",
    "aa_13 = aa_12 +  ['Δ']\n",
    "splimlib = {'6': aa_12, '9': aa_12, '11': aa_12, '13': aa_12, '7a': aa_13, '8a': aa_2}\n",
    "\n",
    "def is_variant_in_expected_set(m_by_pos, splimlib):\n",
    "    for k, a in m_by_pos.items():\n",
    "        if k not in splimlib.keys():\n",
    "            return False\n",
    "        elif a not in splimlib[k]:\n",
    "            return False\n",
    "        \n",
    "    return True"
   ]
  },
  {
   "cell_type": "code",
   "execution_count": 6,
   "metadata": {},
   "outputs": [],
   "source": [
    "def get_vars_by_count(gate, cutoff, correct_only):\n",
    "    vars_by_count = OrderedDict((i, 0) for i in range(1, cutoff +1))\n",
    "\n",
    "    for mutation_string, c in mek[gate].items():\n",
    "        if correct_only:\n",
    "            # m_by_pos[position] = AA\n",
    "            m_by_pos = convert_variant_to_dict(mutation_string)\n",
    "            if not is_variant_in_expected_set(m_by_pos, splimlib):\n",
    "                continue\n",
    "        if c >= cutoff:\n",
    "            vars_by_count[cutoff] +=1\n",
    "        else:\n",
    "            vars_by_count[c] +=1\n",
    "    \n",
    "    return vars_by_count\n",
    "\n",
    "def poisson_plot_for_choosing_cutoff(gate, cutoff, plot_title, colours = ['b', 'c'], filename=\"\"):\n",
    "    \n",
    "    everything = get_vars_by_count(gate, cutoff, correct_only=False)\n",
    "    expected = get_vars_by_count(gate, cutoff, correct_only=True)\n",
    "    \n",
    "    ind = np.arange(len(everything))  # the x locations for the groups\n",
    "    width = 0.35       # the width of the bars\n",
    "        \n",
    "    fig, ax = plt.subplots()\n",
    "    \n",
    "    rects1 = ax.bar(ind, everything.values(), width, color=colours[0])\n",
    "    rects2 = ax.bar(ind + width, expected.values(), width, color=colours[1])\n",
    "\n",
    "    # add some text for labels, title and axes ticks\n",
    "    ax.set_title(plot_title, x=0.5, y=0.9)\n",
    "    ax.set_ylabel('# of variants')\n",
    "    ax.set_xlabel('Sequencing observation count')\n",
    "    ax.set_xticks(ind + width / 2)\n",
    "    ax.set_xticklabels(everything.keys())\n",
    "\n",
    "    ax.legend((rects1[0], rects2[0]), ('All', 'Expected'))\n",
    "\n",
    "    plt.tight_layout()\n",
    "    if filename:\n",
    "        plt.savefig(filename)\n",
    "    plt.show()\n",
    "    \n",
    "    \n",
    "def poisson_plot_for_choosing_cutoff_zoomed(gate, cutoff, plot_title, sel_start = 0, colours = ['b', 'c'], filename=\"\"):\n",
    "    \n",
    "    everything = get_vars_by_count(gate, cutoff, correct_only=False)\n",
    "    expected = get_vars_by_count(gate, cutoff, correct_only=True)\n",
    "    \n",
    "    ind = np.arange(len(everything))  # the x locations for the groups\n",
    "    width = 0.35       # the width of the bars\n",
    "        \n",
    "    fig, ax = plt.subplots()\n",
    "    \n",
    "    rects1 = ax.bar(ind[sel_start:-1], list(everything.values())[sel_start:-1], width, color=colours[0])\n",
    "    rects2 = ax.bar(ind[sel_start:-1] + width, list(expected.values())[sel_start:-1], width, color=colours[1])\n",
    "\n",
    "    # add some text for labels, title and axes ticks\n",
    "    ax.set_title(plot_title, x=0.5, y=0.9)\n",
    "    ax.set_ylabel('# of variants')\n",
    "    ax.set_xlabel('Sequencing observation count')\n",
    "    ax.set_xticks(ind + width / 2)\n",
    "    ax.set_xticklabels(everything.keys())\n",
    "\n",
    "    ax.legend((rects1[0], rects2[0]), ('All', 'Expected'))\n",
    "\n",
    "    plt.tight_layout()\n",
    "    if filename:\n",
    "        plt.savefig(filename)\n",
    "    plt.show()"
   ]
  },
  {
   "cell_type": "code",
   "execution_count": 7,
   "metadata": {},
   "outputs": [
    {
     "data": {
      "image/png": "[encoded data removed]",
      "text/plain": [
       "<Figure size 432x288 with 1 Axes>"
      ]
     },
     "metadata": {
      "needs_background": "light"
     },
     "output_type": "display_data"
    }
   ],
   "source": [
    "poisson_plot_for_choosing_cutoff('high', 20, 'High gate', colours=['navy', 'royalblue'], filename='Seq_cutoffs_high.png')"
   ]
  },
  {
   "cell_type": "code",
   "execution_count": 8,
   "metadata": {},
   "outputs": [
    {
     "data": {
      "image/png": "[encoded data removed]",
      "text/plain": [
       "<Figure size 432x288 with 1 Axes>"
      ]
     },
     "metadata": {
      "needs_background": "light"
     },
     "output_type": "display_data"
    }
   ],
   "source": [
    "poisson_plot_for_choosing_cutoff_zoomed('high', 30, 'High gate', sel_start = 6, colours=['navy', 'royalblue'], filename='Seq_cutoffs_high_zoom.png')"
   ]
  },
  {
   "cell_type": "code",
   "execution_count": 9,
   "metadata": {},
   "outputs": [
    {
     "data": {
      "image/png": "[encoded data removed]",
      "text/plain": [
       "<Figure size 432x288 with 1 Axes>"
      ]
     },
     "metadata": {
      "needs_background": "light"
     },
     "output_type": "display_data"
    }
   ],
   "source": [
    "poisson_plot_for_choosing_cutoff('med', 20, 'Medium gate', colours=['teal', 'turquoise'], filename= 'Seq_cutoffs_medium.png')"
   ]
  },
  {
   "cell_type": "code",
   "execution_count": 10,
   "metadata": {},
   "outputs": [
    {
     "data": {
      "image/png": "[encoded data removed]",
      "text/plain": [
       "<Figure size 432x288 with 1 Axes>"
      ]
     },
     "metadata": {
      "needs_background": "light"
     },
     "output_type": "display_data"
    }
   ],
   "source": [
    "poisson_plot_for_choosing_cutoff('low-t', 20, 'Low gate', colours=['indigo', 'mediumorchid'], filename='Seq_cutoffs_low.png')"
   ]
  },
  {
   "cell_type": "code",
   "execution_count": 11,
   "metadata": {},
   "outputs": [
    {
     "data": {
      "image/png": "[encoded data removed]",
      "text/plain": [
       "<Figure size 432x288 with 1 Axes>"
      ]
     },
     "metadata": {
      "needs_background": "light"
     },
     "output_type": "display_data"
    }
   ],
   "source": [
    "cutoff = 100\n",
    "vars_by_count = OrderedDict((i, 0) for i in range(1, cutoff +1))\n",
    "for c in mek['high'].values():\n",
    "    if c >= cutoff:\n",
    "        vars_by_count[cutoff] +=1\n",
    "    else:\n",
    "        vars_by_count[c] +=1\n",
    "\n",
    "plt.bar(list(vars_by_count.keys())[8:-1], list(vars_by_count.values())[8:-1])\n",
    "plt.xticks(np.arange(0, cutoff+1, 10))\n",
    "plt.xlabel('High: sequencing count')\n",
    "plt.ylabel('Number of variants observed')\n",
    "plt.tight_layout()\n",
    "plt.savefig('Seq_cutoffs_high_2.png')\n",
    "plt.show()"
   ]
  },
  {
   "cell_type": "markdown",
   "metadata": {},
   "source": [
    "### How many times does the WT appear in each bin?"
   ]
  },
  {
   "cell_type": "code",
   "execution_count": 12,
   "metadata": {},
   "outputs": [
    {
     "data": {
      "text/plain": [
       "high     51.0\n",
       "med      36.0\n",
       "low-t    34.0\n",
       "Name: 6P/9I/11L/13P, dtype: float64"
      ]
     },
     "execution_count": 12,
     "metadata": {},
     "output_type": "execute_result"
    }
   ],
   "source": [
    "df_all.loc['6P/9I/11L/13P']"
   ]
  },
  {
   "cell_type": "code",
   "execution_count": 13,
   "metadata": {},
   "outputs": [
    {
     "data": {
      "text/plain": [
       "high      0.0\n",
       "med       6.0\n",
       "low-t    20.0\n",
       "Name: 6P/9A/11A/13P, dtype: float64"
      ]
     },
     "execution_count": 13,
     "metadata": {},
     "output_type": "execute_result"
    }
   ],
   "source": [
    "df_all.loc['6P/9A/11A/13P']"
   ]
  },
  {
   "cell_type": "code",
   "execution_count": 14,
   "metadata": {},
   "outputs": [
    {
     "data": {
      "text/plain": [
       "high     0.421488\n",
       "med      0.297521\n",
       "low-t    0.280992\n",
       "Name: 6P/9I/11L/13P, dtype: float64"
      ]
     },
     "execution_count": 14,
     "metadata": {},
     "output_type": "execute_result"
    }
   ],
   "source": [
    "df_all.loc['6P/9I/11L/13P']/df_all.loc['6P/9I/11L/13P'].sum()"
   ]
  },
  {
   "cell_type": "markdown",
   "metadata": {},
   "source": [
    "Cutoff criteria for variants to be considered acrive are built based on WT:\n",
    "- 51 or more reads in high bin\n",
    "- more reads in high than in low bin\n",
    "- more reads in high than in medium bin\n",
    "- 42% or more reads total in high bin"
   ]
  },
  {
   "cell_type": "code",
   "execution_count": 15,
   "metadata": {},
   "outputs": [],
   "source": [
    "df_51 = df_all.loc[(df_all['high'] >= 51)]"
   ]
  },
  {
   "cell_type": "code",
   "execution_count": 16,
   "metadata": {},
   "outputs": [
    {
     "data": {
      "text/html": [
       "<div>\n",
       "<style scoped>\n",
       "    .dataframe tbody tr th:only-of-type {\n",
       "        vertical-align: middle;\n",
       "    }\n",
       "\n",
       "    .dataframe tbody tr th {\n",
       "        vertical-align: top;\n",
       "    }\n",
       "\n",
       "    .dataframe thead th {\n",
       "        text-align: right;\n",
       "    }\n",
       "</style>\n",
       "<table border=\"1\" class=\"dataframe\">\n",
       "  <thead>\n",
       "    <tr style=\"text-align: right;\">\n",
       "      <th></th>\n",
       "      <th>high</th>\n",
       "      <th>med</th>\n",
       "      <th>low-t</th>\n",
       "    </tr>\n",
       "  </thead>\n",
       "  <tbody>\n",
       "    <tr>\n",
       "      <th>count</th>\n",
       "      <td>29603.000000</td>\n",
       "      <td>29603.000000</td>\n",
       "      <td>29603.000000</td>\n",
       "    </tr>\n",
       "    <tr>\n",
       "      <th>mean</th>\n",
       "      <td>146.213931</td>\n",
       "      <td>11.612810</td>\n",
       "      <td>11.432895</td>\n",
       "    </tr>\n",
       "    <tr>\n",
       "      <th>std</th>\n",
       "      <td>87.679320</td>\n",
       "      <td>15.697705</td>\n",
       "      <td>10.396649</td>\n",
       "    </tr>\n",
       "    <tr>\n",
       "      <th>min</th>\n",
       "      <td>51.000000</td>\n",
       "      <td>0.000000</td>\n",
       "      <td>0.000000</td>\n",
       "    </tr>\n",
       "    <tr>\n",
       "      <th>25%</th>\n",
       "      <td>87.000000</td>\n",
       "      <td>0.000000</td>\n",
       "      <td>5.000000</td>\n",
       "    </tr>\n",
       "    <tr>\n",
       "      <th>50%</th>\n",
       "      <td>123.000000</td>\n",
       "      <td>3.000000</td>\n",
       "      <td>10.000000</td>\n",
       "    </tr>\n",
       "    <tr>\n",
       "      <th>75%</th>\n",
       "      <td>177.000000</td>\n",
       "      <td>19.000000</td>\n",
       "      <td>16.000000</td>\n",
       "    </tr>\n",
       "    <tr>\n",
       "      <th>max</th>\n",
       "      <td>1185.000000</td>\n",
       "      <td>232.000000</td>\n",
       "      <td>453.000000</td>\n",
       "    </tr>\n",
       "  </tbody>\n",
       "</table>\n",
       "</div>"
      ],
      "text/plain": [
       "               high           med         low-t\n",
       "count  29603.000000  29603.000000  29603.000000\n",
       "mean     146.213931     11.612810     11.432895\n",
       "std       87.679320     15.697705     10.396649\n",
       "min       51.000000      0.000000      0.000000\n",
       "25%       87.000000      0.000000      5.000000\n",
       "50%      123.000000      3.000000     10.000000\n",
       "75%      177.000000     19.000000     16.000000\n",
       "max     1185.000000    232.000000    453.000000"
      ]
     },
     "execution_count": 16,
     "metadata": {},
     "output_type": "execute_result"
    }
   ],
   "source": [
    "df_51.describe()"
   ]
  },
  {
   "cell_type": "code",
   "execution_count": 17,
   "metadata": {},
   "outputs": [],
   "source": [
    "df_pos = df_all.loc[(df_all['high'] >= 51) & (df_all['high'] > df_all['low-t']) & (df_all['high'] > df_all['med']) &\n",
    "                   (df_all['high'] > 0.42*(df_all['high'] + df_all['med'] + df_all['low-t']))]\n",
    "# this filtering removed 35 variants based on H>L, H>M condition and 4 based on %H. Leaves one variants with a stop codon."
   ]
  },
  {
   "cell_type": "code",
   "execution_count": 18,
   "metadata": {},
   "outputs": [
    {
     "data": {
      "text/html": [
       "<div>\n",
       "<style scoped>\n",
       "    .dataframe tbody tr th:only-of-type {\n",
       "        vertical-align: middle;\n",
       "    }\n",
       "\n",
       "    .dataframe tbody tr th {\n",
       "        vertical-align: top;\n",
       "    }\n",
       "\n",
       "    .dataframe thead th {\n",
       "        text-align: right;\n",
       "    }\n",
       "</style>\n",
       "<table border=\"1\" class=\"dataframe\">\n",
       "  <thead>\n",
       "    <tr style=\"text-align: right;\">\n",
       "      <th></th>\n",
       "      <th>high</th>\n",
       "      <th>med</th>\n",
       "      <th>low-t</th>\n",
       "    </tr>\n",
       "  </thead>\n",
       "  <tbody>\n",
       "    <tr>\n",
       "      <th>6L/7aI/9A/9a*</th>\n",
       "      <td>53.0</td>\n",
       "      <td>24.0</td>\n",
       "      <td>23.0</td>\n",
       "    </tr>\n",
       "  </tbody>\n",
       "</table>\n",
       "</div>"
      ],
      "text/plain": [
       "               high   med  low-t\n",
       "6L/7aI/9A/9a*  53.0  24.0   23.0"
      ]
     },
     "execution_count": 18,
     "metadata": {},
     "output_type": "execute_result"
    }
   ],
   "source": [
    "df_pos[df_pos.index.str.contains('*', regex=False)]"
   ]
  },
  {
   "cell_type": "code",
   "execution_count": 19,
   "metadata": {},
   "outputs": [],
   "source": [
    "df_pos = df_pos.drop(['6L/7aI/9A/9a*'])"
   ]
  },
  {
   "cell_type": "code",
   "execution_count": 20,
   "metadata": {},
   "outputs": [
    {
     "data": {
      "text/html": [
       "<div>\n",
       "<style scoped>\n",
       "    .dataframe tbody tr th:only-of-type {\n",
       "        vertical-align: middle;\n",
       "    }\n",
       "\n",
       "    .dataframe tbody tr th {\n",
       "        vertical-align: top;\n",
       "    }\n",
       "\n",
       "    .dataframe thead th {\n",
       "        text-align: right;\n",
       "    }\n",
       "</style>\n",
       "<table border=\"1\" class=\"dataframe\">\n",
       "  <thead>\n",
       "    <tr style=\"text-align: right;\">\n",
       "      <th></th>\n",
       "      <th>high</th>\n",
       "      <th>med</th>\n",
       "      <th>low-t</th>\n",
       "    </tr>\n",
       "  </thead>\n",
       "  <tbody>\n",
       "    <tr>\n",
       "      <th>count</th>\n",
       "      <td>29563.000000</td>\n",
       "      <td>29563.000000</td>\n",
       "      <td>29563.000000</td>\n",
       "    </tr>\n",
       "    <tr>\n",
       "      <th>mean</th>\n",
       "      <td>146.294524</td>\n",
       "      <td>11.512363</td>\n",
       "      <td>11.300274</td>\n",
       "    </tr>\n",
       "    <tr>\n",
       "      <th>std</th>\n",
       "      <td>87.695445</td>\n",
       "      <td>15.393163</td>\n",
       "      <td>8.303405</td>\n",
       "    </tr>\n",
       "    <tr>\n",
       "      <th>min</th>\n",
       "      <td>51.000000</td>\n",
       "      <td>0.000000</td>\n",
       "      <td>0.000000</td>\n",
       "    </tr>\n",
       "    <tr>\n",
       "      <th>25%</th>\n",
       "      <td>87.000000</td>\n",
       "      <td>0.000000</td>\n",
       "      <td>5.000000</td>\n",
       "    </tr>\n",
       "    <tr>\n",
       "      <th>50%</th>\n",
       "      <td>123.000000</td>\n",
       "      <td>3.000000</td>\n",
       "      <td>10.000000</td>\n",
       "    </tr>\n",
       "    <tr>\n",
       "      <th>75%</th>\n",
       "      <td>177.000000</td>\n",
       "      <td>19.000000</td>\n",
       "      <td>16.000000</td>\n",
       "    </tr>\n",
       "    <tr>\n",
       "      <th>max</th>\n",
       "      <td>1185.000000</td>\n",
       "      <td>136.000000</td>\n",
       "      <td>80.000000</td>\n",
       "    </tr>\n",
       "  </tbody>\n",
       "</table>\n",
       "</div>"
      ],
      "text/plain": [
       "               high           med         low-t\n",
       "count  29563.000000  29563.000000  29563.000000\n",
       "mean     146.294524     11.512363     11.300274\n",
       "std       87.695445     15.393163      8.303405\n",
       "min       51.000000      0.000000      0.000000\n",
       "25%       87.000000      0.000000      5.000000\n",
       "50%      123.000000      3.000000     10.000000\n",
       "75%      177.000000     19.000000     16.000000\n",
       "max     1185.000000    136.000000     80.000000"
      ]
     },
     "execution_count": 20,
     "metadata": {},
     "output_type": "execute_result"
    }
   ],
   "source": [
    "df_pos.describe()"
   ]
  },
  {
   "cell_type": "markdown",
   "metadata": {},
   "source": [
    "We now have a total of 29,563 variants in the active dataset."
   ]
  },
  {
   "cell_type": "code",
   "execution_count": 21,
   "metadata": {},
   "outputs": [
    {
     "data": {
      "text/plain": [
       "high     32.0\n",
       "med       0.0\n",
       "low-t    19.0\n",
       "Name: 6P/9I/11W/13P, dtype: float64"
      ]
     },
     "execution_count": 21,
     "metadata": {},
     "output_type": "execute_result"
    }
   ],
   "source": [
    "df_all.loc['6P/9I/11W/13P']"
   ]
  }
 ],
 "metadata": {
  "kernelspec": {
   "display_name": "Python 3",
   "language": "python",
   "name": "python3"
  },
  "language_info": {
   "codemirror_mode": {
    "name": "ipython",
    "version": 3
   },
   "file_extension": ".py",
   "mimetype": "text/x-python",
   "name": "python",
   "nbconvert_exporter": "python",
   "pygments_lexer": "ipython3",
   "version": "3.7.3"
  }
 },
 "nbformat": 4,
 "nbformat_minor": 2
}
