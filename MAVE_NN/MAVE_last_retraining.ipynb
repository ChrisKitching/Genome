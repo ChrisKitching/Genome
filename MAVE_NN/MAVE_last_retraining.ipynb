{
 "cells": [
  {
   "cell_type": "code",
   "execution_count": null,
   "metadata": {},
   "outputs": [],
   "source": []
  },
  {
   "cell_type": "markdown",
   "metadata": {},
   "source": [
    "# Retraining MAVE-NN models"
   ]
  },
  {
   "cell_type": "code",
   "execution_count": 3,
   "metadata": {},
   "outputs": [
    {
     "name": "stderr",
     "output_type": "stream",
     "text": [
      "Matplotlib is building the font cache; this may take a moment.\n"
     ]
    }
   ],
   "source": [
    "import sys\n",
    "import os\n",
    "import pickle\n",
    "import time\n",
    "\n",
    "from collections import OrderedDict\n",
    "\n",
    "import pandas as pd\n",
    "import numpy as np\n",
    "import matplotlib.pyplot as plt\n",
    "import seaborn as sns\n",
    "import logomaker\n",
    "\n",
    "import mavenn\n",
    "\n",
    "import warnings\n",
    "warnings.filterwarnings(\"ignore\")\n",
    "\n",
    "os.chdir(\"/mnt/c/Users/Maya/Documents/03_Kinases/\")"
   ]
  },
  {
   "cell_type": "markdown",
   "metadata": {},
   "source": [
    "First, the SpliMLiB dataset is imported and the header displayed to check formatting and columns names."
   ]
  },
  {
   "cell_type": "code",
   "execution_count": 4,
   "metadata": {},
   "outputs": [],
   "source": [
    "with open('splimlib_mave.pickle', 'rb') as f:\n",
    "    df_sml = pickle.load(f)"
   ]
  },
  {
   "cell_type": "code",
   "execution_count": 5,
   "metadata": {},
   "outputs": [
    {
     "data": {
      "text/html": [
       "<div>\n",
       "<style scoped>\n",
       "    .dataframe tbody tr th:only-of-type {\n",
       "        vertical-align: middle;\n",
       "    }\n",
       "\n",
       "    .dataframe tbody tr th {\n",
       "        vertical-align: top;\n",
       "    }\n",
       "\n",
       "    .dataframe thead th {\n",
       "        text-align: right;\n",
       "    }\n",
       "</style>\n",
       "<table border=\"1\" class=\"dataframe\">\n",
       "  <thead>\n",
       "    <tr style=\"text-align: right;\">\n",
       "      <th></th>\n",
       "      <th>mutations</th>\n",
       "      <th>ct_2</th>\n",
       "      <th>ct_1</th>\n",
       "      <th>ct_0</th>\n",
       "      <th>sequences</th>\n",
       "    </tr>\n",
       "  </thead>\n",
       "  <tbody>\n",
       "    <tr>\n",
       "      <th>0</th>\n",
       "      <td>6L/7aI/8aA/9L/11F/13M</td>\n",
       "      <td>1185.0</td>\n",
       "      <td>33.0</td>\n",
       "      <td>6.0</td>\n",
       "      <td>LIALFM</td>\n",
       "    </tr>\n",
       "    <tr>\n",
       "      <th>1</th>\n",
       "      <td>6F/7aP/9W/11L/13M</td>\n",
       "      <td>903.0</td>\n",
       "      <td>81.0</td>\n",
       "      <td>15.0</td>\n",
       "      <td>FPΔWLM</td>\n",
       "    </tr>\n",
       "    <tr>\n",
       "      <th>2</th>\n",
       "      <td>6L/7aF/9L/11I/13I</td>\n",
       "      <td>899.0</td>\n",
       "      <td>2.0</td>\n",
       "      <td>8.0</td>\n",
       "      <td>LFΔLII</td>\n",
       "    </tr>\n",
       "    <tr>\n",
       "      <th>3</th>\n",
       "      <td>6A/7aI/8aA/9L/11L/13I</td>\n",
       "      <td>893.0</td>\n",
       "      <td>3.0</td>\n",
       "      <td>19.0</td>\n",
       "      <td>AIALLI</td>\n",
       "    </tr>\n",
       "    <tr>\n",
       "      <th>4</th>\n",
       "      <td>6W/7aI/9F/11L/13V</td>\n",
       "      <td>880.0</td>\n",
       "      <td>34.0</td>\n",
       "      <td>20.0</td>\n",
       "      <td>WIΔFLV</td>\n",
       "    </tr>\n",
       "  </tbody>\n",
       "</table>\n",
       "</div>"
      ],
      "text/plain": [
       "               mutations    ct_2  ct_1  ct_0 sequences\n",
       "0  6L/7aI/8aA/9L/11F/13M  1185.0  33.0   6.0    LIALFM\n",
       "1      6F/7aP/9W/11L/13M   903.0  81.0  15.0    FPΔWLM\n",
       "2      6L/7aF/9L/11I/13I   899.0   2.0   8.0    LFΔLII\n",
       "3  6A/7aI/8aA/9L/11L/13I   893.0   3.0  19.0    AIALLI\n",
       "4      6W/7aI/9F/11L/13V   880.0  34.0  20.0    WIΔFLV"
      ]
     },
     "execution_count": 5,
     "metadata": {},
     "output_type": "execute_result"
    }
   ],
   "source": [
    "df_sml.head()"
   ]
  },
  {
   "cell_type": "markdown",
   "metadata": {},
   "source": [
    "The column headers are as follows:\n",
    "- mutation: each variant listing the mutation from WT caMKK1. Note that changes at positions 7a and 8a are listed only if there is an insertion present.\n",
    "- ct_2: count of sequencing reads in the high gate\n",
    "- ct_1: sequencing reads in medium gate\n",
    "- ct_0: sequencing reads in low gate\n",
    "- sequences: the amino acid resides in the six randomised positions, without intervening constant residues."
   ]
  },
  {
   "cell_type": "markdown",
   "metadata": {},
   "source": [
    "The signal from the NGS is normalised to convert into percentage of reads in each of the three NGS gates: these are now listed in columns 'high', 'med' and 'low'."
   ]
  },
  {
   "cell_type": "code",
   "execution_count": 6,
   "metadata": {},
   "outputs": [
    {
     "data": {
      "text/html": [
       "<div>\n",
       "<style scoped>\n",
       "    .dataframe tbody tr th:only-of-type {\n",
       "        vertical-align: middle;\n",
       "    }\n",
       "\n",
       "    .dataframe tbody tr th {\n",
       "        vertical-align: top;\n",
       "    }\n",
       "\n",
       "    .dataframe thead th {\n",
       "        text-align: right;\n",
       "    }\n",
       "</style>\n",
       "<table border=\"1\" class=\"dataframe\">\n",
       "  <thead>\n",
       "    <tr style=\"text-align: right;\">\n",
       "      <th></th>\n",
       "      <th>mutations</th>\n",
       "      <th>ct_2</th>\n",
       "      <th>ct_1</th>\n",
       "      <th>ct_0</th>\n",
       "      <th>sequences</th>\n",
       "      <th>high</th>\n",
       "      <th>med</th>\n",
       "      <th>low</th>\n",
       "    </tr>\n",
       "  </thead>\n",
       "  <tbody>\n",
       "    <tr>\n",
       "      <th>0</th>\n",
       "      <td>6L/7aI/8aA/9L/11F/13M</td>\n",
       "      <td>1185.0</td>\n",
       "      <td>33.0</td>\n",
       "      <td>6.0</td>\n",
       "      <td>LIALFM</td>\n",
       "      <td>96.814</td>\n",
       "      <td>2.696</td>\n",
       "      <td>0.490</td>\n",
       "    </tr>\n",
       "    <tr>\n",
       "      <th>1</th>\n",
       "      <td>6F/7aP/9W/11L/13M</td>\n",
       "      <td>903.0</td>\n",
       "      <td>81.0</td>\n",
       "      <td>15.0</td>\n",
       "      <td>FPΔWLM</td>\n",
       "      <td>90.390</td>\n",
       "      <td>8.108</td>\n",
       "      <td>1.502</td>\n",
       "    </tr>\n",
       "    <tr>\n",
       "      <th>2</th>\n",
       "      <td>6L/7aF/9L/11I/13I</td>\n",
       "      <td>899.0</td>\n",
       "      <td>2.0</td>\n",
       "      <td>8.0</td>\n",
       "      <td>LFΔLII</td>\n",
       "      <td>98.900</td>\n",
       "      <td>0.220</td>\n",
       "      <td>0.880</td>\n",
       "    </tr>\n",
       "    <tr>\n",
       "      <th>3</th>\n",
       "      <td>6A/7aI/8aA/9L/11L/13I</td>\n",
       "      <td>893.0</td>\n",
       "      <td>3.0</td>\n",
       "      <td>19.0</td>\n",
       "      <td>AIALLI</td>\n",
       "      <td>97.596</td>\n",
       "      <td>0.328</td>\n",
       "      <td>2.077</td>\n",
       "    </tr>\n",
       "    <tr>\n",
       "      <th>4</th>\n",
       "      <td>6W/7aI/9F/11L/13V</td>\n",
       "      <td>880.0</td>\n",
       "      <td>34.0</td>\n",
       "      <td>20.0</td>\n",
       "      <td>WIΔFLV</td>\n",
       "      <td>94.218</td>\n",
       "      <td>3.640</td>\n",
       "      <td>2.141</td>\n",
       "    </tr>\n",
       "  </tbody>\n",
       "</table>\n",
       "</div>"
      ],
      "text/plain": [
       "               mutations    ct_2  ct_1  ct_0 sequences    high    med    low\n",
       "0  6L/7aI/8aA/9L/11F/13M  1185.0  33.0   6.0    LIALFM  96.814  2.696  0.490\n",
       "1      6F/7aP/9W/11L/13M   903.0  81.0  15.0    FPΔWLM  90.390  8.108  1.502\n",
       "2      6L/7aF/9L/11I/13I   899.0   2.0   8.0    LFΔLII  98.900  0.220  0.880\n",
       "3  6A/7aI/8aA/9L/11L/13I   893.0   3.0  19.0    AIALLI  97.596  0.328  2.077\n",
       "4      6W/7aI/9F/11L/13V   880.0  34.0  20.0    WIΔFLV  94.218  3.640  2.141"
      ]
     },
     "execution_count": 6,
     "metadata": {},
     "output_type": "execute_result"
    }
   ],
   "source": [
    "df_per = df_sml\n",
    "df_per[['high', 'med', 'low']] = df_sml[['ct_2', 'ct_1', 'ct_0']].div(df_sml[['ct_2', 'ct_1', 'ct_0']].sum(axis=1), axis=0).mul(100).round(3)\n",
    "df_per.head()"
   ]
  },
  {
   "cell_type": "code",
   "execution_count": 7,
   "metadata": {},
   "outputs": [],
   "source": [
    "df_sml['stratify'] = 0 # assign everything to group 0 first, just to make sure nothing is without an assignemnt\n",
    "df_sml.loc[df_sml['high'] > 25, 'stratify'] = 1 # high\n",
    "df_sml.loc[(df_sml['high'] <= 25) & (df_sml['med'] >=10), 'stratify'] = 2 # mostly high\n",
    "df_sml.loc[(df_sml['high'] < 1) & (df_sml['med'] < 10), 'stratify'] = 3 # lowest\n",
    "df_sml.loc[(df_sml['high'] >=1) & (df_sml['high'] <= 25) & (df_sml['med'] < 10), 'stratify'] = 4 # generally low"
   ]
  },
  {
   "cell_type": "code",
   "execution_count": 8,
   "metadata": {},
   "outputs": [],
   "source": [
    "data_df = df_sml\n",
    "# Assign to training and test sets\n",
    "N = len(data_df)\n",
    "np.random.seed(2000)\n",
    "r = np.random.rand(N) # get an array of N random numbers between 0 and 1, uniform distribution\n",
    "data_df['set'] = 'test'"
   ]
  },
  {
   "cell_type": "markdown",
   "metadata": {},
   "source": [
    "Checking that the final constructed dataset makes sense:"
   ]
  },
  {
   "cell_type": "code",
   "execution_count": 9,
   "metadata": {},
   "outputs": [
    {
     "data": {
      "text/html": [
       "<div>\n",
       "<style scoped>\n",
       "    .dataframe tbody tr th:only-of-type {\n",
       "        vertical-align: middle;\n",
       "    }\n",
       "\n",
       "    .dataframe tbody tr th {\n",
       "        vertical-align: top;\n",
       "    }\n",
       "\n",
       "    .dataframe thead th {\n",
       "        text-align: right;\n",
       "    }\n",
       "</style>\n",
       "<table border=\"1\" class=\"dataframe\">\n",
       "  <thead>\n",
       "    <tr style=\"text-align: right;\">\n",
       "      <th></th>\n",
       "      <th>mutations</th>\n",
       "      <th>ct_2</th>\n",
       "      <th>ct_1</th>\n",
       "      <th>ct_0</th>\n",
       "      <th>sequences</th>\n",
       "      <th>high</th>\n",
       "      <th>med</th>\n",
       "      <th>low</th>\n",
       "      <th>stratify</th>\n",
       "      <th>set</th>\n",
       "    </tr>\n",
       "  </thead>\n",
       "  <tbody>\n",
       "    <tr>\n",
       "      <th>0</th>\n",
       "      <td>6L/7aI/8aA/9L/11F/13M</td>\n",
       "      <td>1185.0</td>\n",
       "      <td>33.0</td>\n",
       "      <td>6.0</td>\n",
       "      <td>LIALFM</td>\n",
       "      <td>96.814</td>\n",
       "      <td>2.696</td>\n",
       "      <td>0.490</td>\n",
       "      <td>1</td>\n",
       "      <td>test</td>\n",
       "    </tr>\n",
       "    <tr>\n",
       "      <th>1</th>\n",
       "      <td>6F/7aP/9W/11L/13M</td>\n",
       "      <td>903.0</td>\n",
       "      <td>81.0</td>\n",
       "      <td>15.0</td>\n",
       "      <td>FPΔWLM</td>\n",
       "      <td>90.390</td>\n",
       "      <td>8.108</td>\n",
       "      <td>1.502</td>\n",
       "      <td>1</td>\n",
       "      <td>test</td>\n",
       "    </tr>\n",
       "    <tr>\n",
       "      <th>2</th>\n",
       "      <td>6L/7aF/9L/11I/13I</td>\n",
       "      <td>899.0</td>\n",
       "      <td>2.0</td>\n",
       "      <td>8.0</td>\n",
       "      <td>LFΔLII</td>\n",
       "      <td>98.900</td>\n",
       "      <td>0.220</td>\n",
       "      <td>0.880</td>\n",
       "      <td>1</td>\n",
       "      <td>test</td>\n",
       "    </tr>\n",
       "    <tr>\n",
       "      <th>3</th>\n",
       "      <td>6A/7aI/8aA/9L/11L/13I</td>\n",
       "      <td>893.0</td>\n",
       "      <td>3.0</td>\n",
       "      <td>19.0</td>\n",
       "      <td>AIALLI</td>\n",
       "      <td>97.596</td>\n",
       "      <td>0.328</td>\n",
       "      <td>2.077</td>\n",
       "      <td>1</td>\n",
       "      <td>test</td>\n",
       "    </tr>\n",
       "    <tr>\n",
       "      <th>4</th>\n",
       "      <td>6W/7aI/9F/11L/13V</td>\n",
       "      <td>880.0</td>\n",
       "      <td>34.0</td>\n",
       "      <td>20.0</td>\n",
       "      <td>WIΔFLV</td>\n",
       "      <td>94.218</td>\n",
       "      <td>3.640</td>\n",
       "      <td>2.141</td>\n",
       "      <td>1</td>\n",
       "      <td>test</td>\n",
       "    </tr>\n",
       "    <tr>\n",
       "      <th>...</th>\n",
       "      <td>...</td>\n",
       "      <td>...</td>\n",
       "      <td>...</td>\n",
       "      <td>...</td>\n",
       "      <td>...</td>\n",
       "      <td>...</td>\n",
       "      <td>...</td>\n",
       "      <td>...</td>\n",
       "      <td>...</td>\n",
       "      <td>...</td>\n",
       "    </tr>\n",
       "    <tr>\n",
       "      <th>386026</th>\n",
       "      <td>6P/7aL/9P/11G/13K</td>\n",
       "      <td>0.0</td>\n",
       "      <td>0.0</td>\n",
       "      <td>10.0</td>\n",
       "      <td>PLΔPGK</td>\n",
       "      <td>0.000</td>\n",
       "      <td>0.000</td>\n",
       "      <td>100.000</td>\n",
       "      <td>3</td>\n",
       "      <td>test</td>\n",
       "    </tr>\n",
       "    <tr>\n",
       "      <th>386027</th>\n",
       "      <td>6M/7aV/8aA/9Y/11P/13W</td>\n",
       "      <td>0.0</td>\n",
       "      <td>0.0</td>\n",
       "      <td>10.0</td>\n",
       "      <td>MVAYPW</td>\n",
       "      <td>0.000</td>\n",
       "      <td>0.000</td>\n",
       "      <td>100.000</td>\n",
       "      <td>3</td>\n",
       "      <td>test</td>\n",
       "    </tr>\n",
       "    <tr>\n",
       "      <th>386028</th>\n",
       "      <td>6L/7aW/9Y/11I/13G</td>\n",
       "      <td>0.0</td>\n",
       "      <td>0.0</td>\n",
       "      <td>10.0</td>\n",
       "      <td>LWΔYIG</td>\n",
       "      <td>0.000</td>\n",
       "      <td>0.000</td>\n",
       "      <td>100.000</td>\n",
       "      <td>3</td>\n",
       "      <td>test</td>\n",
       "    </tr>\n",
       "    <tr>\n",
       "      <th>386029</th>\n",
       "      <td>6G/7aP/8aA/9G/11Y/13V</td>\n",
       "      <td>0.0</td>\n",
       "      <td>0.0</td>\n",
       "      <td>10.0</td>\n",
       "      <td>GPAGYV</td>\n",
       "      <td>0.000</td>\n",
       "      <td>0.000</td>\n",
       "      <td>100.000</td>\n",
       "      <td>3</td>\n",
       "      <td>test</td>\n",
       "    </tr>\n",
       "    <tr>\n",
       "      <th>386030</th>\n",
       "      <td>6D/7aK/9M/11G/13K</td>\n",
       "      <td>0.0</td>\n",
       "      <td>0.0</td>\n",
       "      <td>10.0</td>\n",
       "      <td>DKΔMGK</td>\n",
       "      <td>0.000</td>\n",
       "      <td>0.000</td>\n",
       "      <td>100.000</td>\n",
       "      <td>3</td>\n",
       "      <td>test</td>\n",
       "    </tr>\n",
       "  </tbody>\n",
       "</table>\n",
       "<p>386031 rows × 10 columns</p>\n",
       "</div>"
      ],
      "text/plain": [
       "                    mutations    ct_2  ct_1  ct_0 sequences    high    med  \\\n",
       "0       6L/7aI/8aA/9L/11F/13M  1185.0  33.0   6.0    LIALFM  96.814  2.696   \n",
       "1           6F/7aP/9W/11L/13M   903.0  81.0  15.0    FPΔWLM  90.390  8.108   \n",
       "2           6L/7aF/9L/11I/13I   899.0   2.0   8.0    LFΔLII  98.900  0.220   \n",
       "3       6A/7aI/8aA/9L/11L/13I   893.0   3.0  19.0    AIALLI  97.596  0.328   \n",
       "4           6W/7aI/9F/11L/13V   880.0  34.0  20.0    WIΔFLV  94.218  3.640   \n",
       "...                       ...     ...   ...   ...       ...     ...    ...   \n",
       "386026      6P/7aL/9P/11G/13K     0.0   0.0  10.0    PLΔPGK   0.000  0.000   \n",
       "386027  6M/7aV/8aA/9Y/11P/13W     0.0   0.0  10.0    MVAYPW   0.000  0.000   \n",
       "386028      6L/7aW/9Y/11I/13G     0.0   0.0  10.0    LWΔYIG   0.000  0.000   \n",
       "386029  6G/7aP/8aA/9G/11Y/13V     0.0   0.0  10.0    GPAGYV   0.000  0.000   \n",
       "386030      6D/7aK/9M/11G/13K     0.0   0.0  10.0    DKΔMGK   0.000  0.000   \n",
       "\n",
       "            low  stratify   set  \n",
       "0         0.490         1  test  \n",
       "1         1.502         1  test  \n",
       "2         0.880         1  test  \n",
       "3         2.077         1  test  \n",
       "4         2.141         1  test  \n",
       "...         ...       ...   ...  \n",
       "386026  100.000         3  test  \n",
       "386027  100.000         3  test  \n",
       "386028  100.000         3  test  \n",
       "386029  100.000         3  test  \n",
       "386030  100.000         3  test  \n",
       "\n",
       "[386031 rows x 10 columns]"
      ]
     },
     "execution_count": 9,
     "metadata": {},
     "output_type": "execute_result"
    }
   ],
   "source": [
    "data_df"
   ]
  },
  {
   "cell_type": "markdown",
   "metadata": {},
   "source": [
    "This time round, use only top and bottom variants for training."
   ]
  },
  {
   "cell_type": "code",
   "execution_count": 10,
   "metadata": {},
   "outputs": [],
   "source": [
    "df_reduced = df_sml.loc[(df_sml['stratify'] == 1) | (df_sml['stratify'] == 3)]"
   ]
  },
  {
   "cell_type": "code",
   "execution_count": 11,
   "metadata": {},
   "outputs": [],
   "source": [
    "data_df = df_reduced"
   ]
  },
  {
   "cell_type": "code",
   "execution_count": 12,
   "metadata": {},
   "outputs": [
    {
     "data": {
      "text/html": [
       "<div>\n",
       "<style scoped>\n",
       "    .dataframe tbody tr th:only-of-type {\n",
       "        vertical-align: middle;\n",
       "    }\n",
       "\n",
       "    .dataframe tbody tr th {\n",
       "        vertical-align: top;\n",
       "    }\n",
       "\n",
       "    .dataframe thead th {\n",
       "        text-align: right;\n",
       "    }\n",
       "</style>\n",
       "<table border=\"1\" class=\"dataframe\">\n",
       "  <thead>\n",
       "    <tr style=\"text-align: right;\">\n",
       "      <th></th>\n",
       "      <th>ct_2</th>\n",
       "      <th>ct_1</th>\n",
       "      <th>ct_0</th>\n",
       "      <th>high</th>\n",
       "      <th>med</th>\n",
       "      <th>low</th>\n",
       "      <th>stratify</th>\n",
       "    </tr>\n",
       "  </thead>\n",
       "  <tbody>\n",
       "    <tr>\n",
       "      <th>count</th>\n",
       "      <td>221277.000000</td>\n",
       "      <td>221277.000000</td>\n",
       "      <td>221277.000000</td>\n",
       "      <td>221277.000000</td>\n",
       "      <td>221277.000000</td>\n",
       "      <td>221277.000000</td>\n",
       "      <td>221277.000000</td>\n",
       "    </tr>\n",
       "    <tr>\n",
       "      <th>mean</th>\n",
       "      <td>20.564840</td>\n",
       "      <td>1.843065</td>\n",
       "      <td>17.114761</td>\n",
       "      <td>13.975416</td>\n",
       "      <td>1.965865</td>\n",
       "      <td>84.058719</td>\n",
       "      <td>2.649128</td>\n",
       "    </tr>\n",
       "    <tr>\n",
       "      <th>std</th>\n",
       "      <td>59.146463</td>\n",
       "      <td>7.046407</td>\n",
       "      <td>8.410642</td>\n",
       "      <td>31.090571</td>\n",
       "      <td>5.289394</td>\n",
       "      <td>33.514960</td>\n",
       "      <td>0.760681</td>\n",
       "    </tr>\n",
       "    <tr>\n",
       "      <th>min</th>\n",
       "      <td>0.000000</td>\n",
       "      <td>0.000000</td>\n",
       "      <td>0.000000</td>\n",
       "      <td>0.000000</td>\n",
       "      <td>0.000000</td>\n",
       "      <td>0.000000</td>\n",
       "      <td>1.000000</td>\n",
       "    </tr>\n",
       "    <tr>\n",
       "      <th>25%</th>\n",
       "      <td>0.000000</td>\n",
       "      <td>0.000000</td>\n",
       "      <td>12.000000</td>\n",
       "      <td>0.000000</td>\n",
       "      <td>0.000000</td>\n",
       "      <td>95.455000</td>\n",
       "      <td>3.000000</td>\n",
       "    </tr>\n",
       "    <tr>\n",
       "      <th>50%</th>\n",
       "      <td>0.000000</td>\n",
       "      <td>0.000000</td>\n",
       "      <td>15.000000</td>\n",
       "      <td>0.000000</td>\n",
       "      <td>0.000000</td>\n",
       "      <td>100.000000</td>\n",
       "      <td>3.000000</td>\n",
       "    </tr>\n",
       "    <tr>\n",
       "      <th>75%</th>\n",
       "      <td>0.000000</td>\n",
       "      <td>0.000000</td>\n",
       "      <td>21.000000</td>\n",
       "      <td>0.000000</td>\n",
       "      <td>0.000000</td>\n",
       "      <td>100.000000</td>\n",
       "      <td>3.000000</td>\n",
       "    </tr>\n",
       "    <tr>\n",
       "      <th>max</th>\n",
       "      <td>1185.000000</td>\n",
       "      <td>162.000000</td>\n",
       "      <td>95.000000</td>\n",
       "      <td>100.000000</td>\n",
       "      <td>73.684000</td>\n",
       "      <td>100.000000</td>\n",
       "      <td>3.000000</td>\n",
       "    </tr>\n",
       "  </tbody>\n",
       "</table>\n",
       "</div>"
      ],
      "text/plain": [
       "                ct_2           ct_1           ct_0           high  \\\n",
       "count  221277.000000  221277.000000  221277.000000  221277.000000   \n",
       "mean       20.564840       1.843065      17.114761      13.975416   \n",
       "std        59.146463       7.046407       8.410642      31.090571   \n",
       "min         0.000000       0.000000       0.000000       0.000000   \n",
       "25%         0.000000       0.000000      12.000000       0.000000   \n",
       "50%         0.000000       0.000000      15.000000       0.000000   \n",
       "75%         0.000000       0.000000      21.000000       0.000000   \n",
       "max      1185.000000     162.000000      95.000000     100.000000   \n",
       "\n",
       "                 med            low       stratify  \n",
       "count  221277.000000  221277.000000  221277.000000  \n",
       "mean        1.965865      84.058719       2.649128  \n",
       "std         5.289394      33.514960       0.760681  \n",
       "min         0.000000       0.000000       1.000000  \n",
       "25%         0.000000      95.455000       3.000000  \n",
       "50%         0.000000     100.000000       3.000000  \n",
       "75%         0.000000     100.000000       3.000000  \n",
       "max        73.684000     100.000000       3.000000  "
      ]
     },
     "execution_count": 12,
     "metadata": {},
     "output_type": "execute_result"
    }
   ],
   "source": [
    "data_df.describe()"
   ]
  },
  {
   "cell_type": "code",
   "execution_count": 13,
   "metadata": {},
   "outputs": [],
   "source": [
    "# Assign to training and test sets\n",
    "N = len(data_df)\n",
    "np.random.seed(2000)\n",
    "r = np.random.rand(N) # get an array of N random numbers between 0 and 1, uniform distribution\n",
    "data_df['set'] = 'test'\n",
    "\n",
    "test_fractions = {1: 0.4, 3: 0.7 }\n",
    "\n",
    "for k, v in test_fractions.items():\n",
    "    test_frac = v # first split of test fraction\n",
    "    ix_train = (test_frac  <= r) & (data_df['stratify'] == k) \n",
    "    ix_test = (r < test_frac) & (data_df['stratify'] == k)\n",
    "    data_df.loc[ix_train, 'set'] = 'training'\n",
    "    data_df.loc[ix_test, 'set'] = 'test'"
   ]
  },
  {
   "cell_type": "code",
   "execution_count": 14,
   "metadata": {},
   "outputs": [
    {
     "name": "stdout",
     "output_type": "stream",
     "text": [
      "L=6, Y=3\n",
      "Training set size: 77,862 observations\n",
      "Test set size    : 143,415 observations\n"
     ]
    }
   ],
   "source": [
    "# Split into training and test data\n",
    "ix = (data_df['set'] == 'training')\n",
    "train_df = data_df[ix]\n",
    "test_df = data_df[~ix]\n",
    "\n",
    "# Extract x and y as np.arrays\n",
    "x_train = train_df['sequences'].values\n",
    "y_train = train_df[['high', 'med', 'low']].values\n",
    "x_test = test_df['sequences'].values\n",
    "y_test = test_df[['high', 'med', 'low']].values\n",
    "\n",
    "L = len(data_df['sequences'][0])\n",
    "y_cols = data_df.columns[5:8]\n",
    "Y = len(y_cols)\n",
    "print(f'L={L}, Y={Y}')\n",
    "\n",
    "# Show dataset sizes\n",
    "print(f'Training set size: {len(x_train):6,d} observations')\n",
    "print(f'Test set size    : {len(x_test):6,d} observations')"
   ]
  },
  {
   "cell_type": "markdown",
   "metadata": {},
   "source": [
    "### Vary the number of hidden nodes"
   ]
  },
  {
   "cell_type": "code",
   "execution_count": 15,
   "metadata": {},
   "outputs": [],
   "source": [
    "sml_alphabet = np.array(['A','G','P','Y','D','K','M','V','I','L','F','W','Δ'])\n",
    "wt = 'PΔΔILP'"
   ]
  },
  {
   "cell_type": "code",
   "execution_count": 16,
   "metadata": {},
   "outputs": [],
   "source": [
    "def train_mave_model(gpmap='additive', \n",
    "                     mpa_hidden_nodes=50, \n",
    "                     learning_rate=0.005, epochs=50, \n",
    "                     batch_size=50, \n",
    "                     verbose=False, \n",
    "                     stop=True, \n",
    "                     lin_init=True):\n",
    "    # Define model, using default parameters from the package\n",
    "    model = mavenn.Model(regression_type='MPA',\n",
    "                         L=L,\n",
    "                         Y=Y,\n",
    "                         alphabet=sml_alphabet,\n",
    "                         gpmap_type= gpmap,\n",
    "                         mpa_hidden_nodes=mpa_hidden_nodes)\n",
    "\n",
    "    # Set training data\n",
    "    model.set_data(x=x_train,\n",
    "                   y=y_train,\n",
    "                   shuffle=True,\n",
    "                   verbose=False)\n",
    "\n",
    "    # Fit model to data\n",
    "    model.fit(learning_rate=learning_rate,\n",
    "              epochs=epochs,\n",
    "              batch_size=batch_size,\n",
    "              early_stopping=stop,\n",
    "              early_stopping_patience=20,\n",
    "              linear_initialization=lin_init,\n",
    "              verbose=verbose)\n",
    "\n",
    "    return model"
   ]
  },
  {
   "cell_type": "code",
   "execution_count": 17,
   "metadata": {},
   "outputs": [],
   "source": [
    "additive_models = {k: OrderedDict() for k in ['gpmap_tpye', 'mpa_hidden_nodes', 'learning_rate', 'epochs', 'batch_size']}"
   ]
  },
  {
   "cell_type": "code",
   "execution_count": 18,
   "metadata": {},
   "outputs": [
    {
     "name": "stdout",
     "output_type": "stream",
     "text": [
      "Hidden nodes: 10, inference time: 152.70 seconds\n",
      "Hidden nodes: 20, inference time: 125.70 seconds\n",
      "Hidden nodes: 40, inference time: 98.43 seconds\n",
      "Hidden nodes: 80, inference time: 144.68 seconds\n",
      "Hidden nodes: 100, inference time: 160.37 seconds\n",
      "Hidden nodes: 120, inference time: 101.11 seconds\n",
      "Hidden nodes: 150, inference time: 111.91 seconds\n",
      "Hidden nodes: 200, inference time: 139.79 seconds\n"
     ]
    }
   ],
   "source": [
    "for n in [10, 20, 40, 80, 100, 120, 150, 200]:\n",
    "    start_time = time.time()\n",
    "    model = train_mave_model(gpmap='additive', mpa_hidden_nodes=n)\n",
    "    \n",
    "    # Report fitting time\n",
    "    training_time = time.time()-start_time\n",
    "    print('Hidden nodes: ' + str(n) + f', inference time: {training_time:.2f} seconds')\n",
    "   \n",
    "    additive_models['mpa_hidden_nodes'][n] = model"
   ]
  },
  {
   "cell_type": "code",
   "execution_count": 46,
   "metadata": {},
   "outputs": [],
   "source": [
    "def plot_single_heatmap(model, title, ax, clim=[-4,4], xlabels=['0','6', '7a', '8a', '9', '11', '13']):\n",
    "    # Get effects of all single-point mutations on phi\n",
    "    theta_dict = model.get_theta(gauge='user', x_wt=wt)\n",
    "    # draw heatmap illustrating 1pt mutation effects\n",
    "    ax, cb = mavenn.heatmap(theta_dict['theta_lc'],\n",
    "                            alphabet=sml_alphabet,\n",
    "                            seq=wt,\n",
    "                            ax=ax,\n",
    "                            cmap='bwr_r',\n",
    "                            ccenter=0,\n",
    "                            cmap_size='2%',\n",
    "                            clim = clim)\n",
    "    ax.set_xticklabels(xlabels)\n",
    "    ax.set_title(title)\n",
    "\n",
    "    cb.outline.set_visible(False)"
   ]
  },
  {
   "cell_type": "code",
   "execution_count": 30,
   "metadata": {},
   "outputs": [],
   "source": [
    "def plot_learning_history(model, title, ax):\n",
    "    # Get training history\n",
    "    I_var_hist = model.history['I_var']\n",
    "    val_I_var_hist = model.history['val_I_var']\n",
    "\n",
    "    # Plot training history as well as information values\n",
    "    ax.plot(I_var_hist, label='I_var_train')\n",
    "    ax.plot(val_I_var_hist, label='I_var_val')\n",
    "    ax.legend()\n",
    "    ax.set_ylabel('bits')\n",
    "    ax.set_xlabel('epoch')"
   ]
  },
  {
   "cell_type": "code",
   "execution_count": 31,
   "metadata": {},
   "outputs": [],
   "source": [
    "def plot_loss_history(model, title, ax):\n",
    "    # Extract training loss and validation loss\n",
    "    loss_training = model.history['loss']\n",
    "    loss_validation = model.history['val_loss']\n",
    "\n",
    "    # Plot training history as well as information values\n",
    "    ax.plot(loss_training, color='C2', label='training')\n",
    "    ax.plot(loss_validation, color='C3', label='validation')\n",
    "    ax.set_ylabel('loss')\n",
    "    ax.set_xlabel('epoch')\n",
    "    ax.legend()"
   ]
  },
  {
   "cell_type": "code",
   "execution_count": 28,
   "metadata": {},
   "outputs": [
    {
     "data": {
      "image/png": "[encoded data removed]",
      "text/plain": [
       "<Figure size 720x432 with 16 Axes>"
      ]
     },
     "metadata": {
      "needs_background": "light"
     },
     "output_type": "display_data"
    }
   ],
   "source": [
    "fig, axes = plt.subplots(2,4,figsize=[10,6])\n",
    "\n",
    "i = 0\n",
    "for n, model in additive_models['mpa_hidden_nodes'].items():  \n",
    "    ax = axes.flat[i]\n",
    "    plot_single_heatmap(model, 'Hidden_nodes: ' + str(n), ax=ax, clim=[-1,1])\n",
    "    i += 1\n",
    "\n",
    "fig.tight_layout(w_pad=3)\n",
    "plt.show()"
   ]
  },
  {
   "cell_type": "code",
   "execution_count": 32,
   "metadata": {},
   "outputs": [
    {
     "data": {
      "image/png": "[encoded data removed]",
      "text/plain": [
       "<Figure size 720x432 with 8 Axes>"
      ]
     },
     "metadata": {
      "needs_background": "light"
     },
     "output_type": "display_data"
    }
   ],
   "source": [
    "fig, axes = plt.subplots(2,4,figsize=[10,6])\n",
    "\n",
    "i = 0\n",
    "for n, model in additive_models['mpa_hidden_nodes'].items():  \n",
    "    ax = axes.flat[i]\n",
    "    plot_learning_history(model, 'Hidden_nodes: ' + str(n), ax=ax)\n",
    "    i += 1\n",
    "\n",
    "fig.tight_layout(w_pad=3)\n",
    "plt.show()"
   ]
  },
  {
   "cell_type": "markdown",
   "metadata": {},
   "source": [
    "None of these models learned anything. The only difference is that a model with more than 50 nodes learns faster."
   ]
  },
  {
   "cell_type": "markdown",
   "metadata": {},
   "source": [
    "### Try to re-train the pairwise model in the same fashion"
   ]
  },
  {
   "cell_type": "code",
   "execution_count": null,
   "metadata": {},
   "outputs": [],
   "source": [
    "pairwise_models = {k: OrderedDict() for k in ['gpmap_tpye', 'mpa_hidden_nodes', 'learning_rate', 'epochs', 'batch_size']}"
   ]
  },
  {
   "cell_type": "code",
   "execution_count": null,
   "metadata": {},
   "outputs": [],
   "source": [
    "for n in [10, 20, 40, 80, 100, 120, 150, 200]:\n",
    "    start_time = time.time()\n",
    "    model = train_mave_model(gpmap='pairwise', mpa_hidden_nodes=n, learning_rate=0.005, epochs=50, batch_size=50)\n",
    "    \n",
    "    # Report fitting time\n",
    "    training_time = time.time()-start_time\n",
    "    print('Hidden nodes: ' + str(n) + f', inference time: {training_time:.2f} seconds')\n",
    "   \n",
    "    pairwise_models['mpa_hidden_nodes'][n] = model"
   ]
  },
  {
   "cell_type": "code",
   "execution_count": null,
   "metadata": {},
   "outputs": [],
   "source": [
    "fig, axes = plt.subplots(2,4,sharex=True, sharey=True, figsize=[10,6])\n",
    "\n",
    "i = 0\n",
    "for n, model in pairwise_models['mpa_hidden_nodes'].items():  \n",
    "    ax = axes.flat[i]\n",
    "    plot_single_heatmap(model, 'Hidden_nodes: ' + str(n), ax=ax)\n",
    "    i += 1\n",
    "\n",
    "fig.tight_layout(w_pad=3)\n",
    "plt.show()"
   ]
  },
  {
   "cell_type": "code",
   "execution_count": null,
   "metadata": {},
   "outputs": [],
   "source": [
    "fig, axes = plt.subplots(2,4,figsize=[10,6])\n",
    "\n",
    "i = 0\n",
    "for n, model in additive_models['mpa_hidden_nodes'].items():  \n",
    "    ax = axes.flat[i]\n",
    "    plot_learning_history(model, 'Hidden_nodes: ' + str(n), ax=ax)\n",
    "    i += 1\n",
    "\n",
    "fig.tight_layout(w_pad=3)\n",
    "plt.show()"
   ]
  },
  {
   "cell_type": "markdown",
   "metadata": {},
   "source": [
    "Still learning nothing."
   ]
  },
  {
   "cell_type": "markdown",
   "metadata": {},
   "source": [
    "### Train again with a longer training process and faster learning rate"
   ]
  },
  {
   "cell_type": "code",
   "execution_count": null,
   "metadata": {},
   "outputs": [],
   "source": [
    "pairwise_models = {k: OrderedDict() for k in ['gpmap_tpye', 'mpa_hidden_nodes', 'learning_rate', 'epochs', 'batch_size']}\n",
    "\n",
    "for n in [10, 30, 50, 100, 150, 200]:\n",
    "    start_time = time.time()\n",
    "    model = train_mave_model(gpmap='pairwise', mpa_hidden_nodes=n, learning_rate=0.01, epochs=200, batch_size=300)\n",
    "    \n",
    "    # Report fitting time\n",
    "    training_time = time.time()-start_time\n",
    "    print('Hidden nodes: ' + str(n) + f', inference time: {training_time:.2f} seconds')\n",
    "   \n",
    "    pairwise_models['mpa_hidden_nodes'][n] = model"
   ]
  },
  {
   "cell_type": "code",
   "execution_count": null,
   "metadata": {},
   "outputs": [],
   "source": [
    "fig, axes = plt.subplots(1,6,sharex=True, sharey=True, figsize=[12,3])\n",
    "\n",
    "i = 0\n",
    "for n, model in pairwise_models['mpa_hidden_nodes'].items():  \n",
    "    ax = axes.flat[i]\n",
    "    plot_single_heatmap(model, 'Hidden_nodes: ' + str(n), ax=ax)\n",
    "    i += 1\n",
    "\n",
    "fig.tight_layout(w_pad=3)\n",
    "plt.show()"
   ]
  },
  {
   "cell_type": "code",
   "execution_count": null,
   "metadata": {},
   "outputs": [],
   "source": [
    "fig, axes = plt.subplots(1,6,figsize=[12,3])\n",
    "\n",
    "i = 0\n",
    "for n, model in pairwise_models['mpa_hidden_nodes'].items():  \n",
    "    ax = axes.flat[i]\n",
    "    plot_learning_history(model, 'Hidden_nodes: ' + str(n), ax=ax)\n",
    "    i += 1\n",
    "\n",
    "fig.tight_layout(w_pad=3)\n",
    "plt.show()"
   ]
  },
  {
   "cell_type": "markdown",
   "metadata": {},
   "source": [
    "Still rubbish, tbe extra training epochs were not needed."
   ]
  },
  {
   "cell_type": "markdown",
   "metadata": {},
   "source": [
    "### Do again with a slower learning rate"
   ]
  },
  {
   "cell_type": "code",
   "execution_count": null,
   "metadata": {},
   "outputs": [],
   "source": [
    "pairwise_models = {k: OrderedDict() for k in ['gpmap_tpye', 'mpa_hidden_nodes', 'learning_rate', 'epochs', 'batch_size']}\n",
    "\n",
    "for n in [10, 30, 50, 100, 150, 200]:\n",
    "    start_time = time.time()\n",
    "    model = train_mave_model(gpmap='pairwise', mpa_hidden_nodes=n, learning_rate=0.001, epochs=100, batch_size=300)\n",
    "    \n",
    "    # Report fitting time\n",
    "    training_time = time.time()-start_time\n",
    "    print('Hidden nodes: ' + str(n) + f', inference time: {training_time:.2f} seconds')\n",
    "   \n",
    "    pairwise_models['mpa_hidden_nodes'][n] = model"
   ]
  },
  {
   "cell_type": "code",
   "execution_count": null,
   "metadata": {},
   "outputs": [],
   "source": [
    "fig, axes = plt.subplots(3,6, figsize=[12,7])\n",
    "\n",
    "i = 0\n",
    "for n, model in pairwise_models['mpa_hidden_nodes'].items():  \n",
    "    plot_single_heatmap(model, 'Hidden_nodes: ' + str(n), ax=axes[0, i])\n",
    "    plot_learning_history(model, 'Hidden_nodes: ' + str(n), ax=axes[1, i])\n",
    "    plot_loss_history(model, ax=axes[2, i])\n",
    "    i += 1\n",
    "\n",
    "fig.tight_layout(w_pad=3)\n",
    "plt.show()"
   ]
  },
  {
   "cell_type": "markdown",
   "metadata": {},
   "source": [
    "### Do it again with different batch sizes"
   ]
  },
  {
   "cell_type": "code",
   "execution_count": null,
   "metadata": {},
   "outputs": [],
   "source": [
    "for b in [10, 30, 50, 100, 150, 200]:\n",
    "    start_time = time.time()\n",
    "    model = train_mave_model(gpmap='pairwise', mpa_hidden_nodes=50, learning_rate=0.001, epochs=100, batch_size=b)\n",
    "    \n",
    "    # Report fitting time\n",
    "    training_time = time.time()-start_time\n",
    "    print('Batch size: ' + str(b) + f', inference time: {training_time:.2f} seconds')\n",
    "   \n",
    "    pairwise_models['batch_size'][b] = model"
   ]
  },
  {
   "cell_type": "code",
   "execution_count": null,
   "metadata": {},
   "outputs": [],
   "source": [
    "for b in [300, 400, 500, 1000]:\n",
    "    start_time = time.time()\n",
    "    model = train_mave_model(gpmap='pairwise', mpa_hidden_nodes=50, learning_rate=0.001, epochs=100, batch_size=b)\n",
    "    \n",
    "    # Report fitting time\n",
    "    training_time = time.time()-start_time\n",
    "    print('Batch size: ' + str(b) + f', inference time: {training_time:.2f} seconds')\n",
    "   \n",
    "    pairwise_models['batch_size'][b] = model"
   ]
  },
  {
   "cell_type": "code",
   "execution_count": null,
   "metadata": {},
   "outputs": [],
   "source": [
    "fig, axes = plt.subplots(3,len(pairwise_models['batch_size'].keys()), figsize=[20,7])\n",
    "\n",
    "i = 0\n",
    "for b, model in pairwise_models['batch_size'].items():  \n",
    "    plot_single_heatmap(model, 'Batch size: ' + str(b), ax=axes[0, i], clim=[-2,2])\n",
    "    plot_learning_history(model, ax=axes[1, i])\n",
    "    plot_loss_history(model, ax=axes[2, i])\n",
    "    i += 1\n",
    "\n",
    "fig.tight_layout(w_pad=3)\n",
    "plt.show()"
   ]
  },
  {
   "cell_type": "markdown",
   "metadata": {},
   "source": [
    "None of these have actually learned much and the rate of learning has slowed. They also start performing worse on validation and better on training set during learning.\n",
    "\n",
    "## Try again without early stopping\n",
    "Pairwise model, batch size 1000, 200 max epochs, 50-200 hidden nodes"
   ]
  },
  {
   "cell_type": "code",
   "execution_count": 34,
   "metadata": {},
   "outputs": [],
   "source": [
    "pairwise_models = {k: OrderedDict() for k in ['gpmap_tpye', 'mpa_hidden_nodes', 'learning_rate', 'epochs', 'batch_size']}\n"
   ]
  },
  {
   "cell_type": "code",
   "execution_count": 35,
   "metadata": {},
   "outputs": [],
   "source": [
    "pairwise_models['long_run'] = OrderedDict()"
   ]
  },
  {
   "cell_type": "code",
   "execution_count": 36,
   "metadata": {},
   "outputs": [
    {
     "name": "stdout",
     "output_type": "stream",
     "text": [
      "Hidden nodes: 50, inference time: 69.08 seconds\n",
      "Hidden nodes: 100, inference time: 63.11 seconds\n",
      "Hidden nodes: 150, inference time: 61.31 seconds\n",
      "Hidden nodes: 200, inference time: 56.40 seconds\n"
     ]
    }
   ],
   "source": [
    "for n in [50, 100, 150, 200]:\n",
    "    start_time = time.time()\n",
    "    model = train_mave_model(gpmap='pairwise', mpa_hidden_nodes=n, learning_rate=0.001, epochs=200, batch_size=1000, stop=False, lin_init=True)\n",
    "    \n",
    "    # Report fitting time\n",
    "    training_time = time.time()-start_time\n",
    "    print('Hidden nodes: ' + str(n) + f', inference time: {training_time:.2f} seconds')\n",
    "   \n",
    "    pairwise_models['long_run'][n] = model"
   ]
  },
  {
   "cell_type": "code",
   "execution_count": 50,
   "metadata": {},
   "outputs": [
    {
     "data": {
      "image/png": "[encoded data removed]",
      "text/plain": [
       "<Figure size 864x576 with 16 Axes>"
      ]
     },
     "metadata": {
      "needs_background": "light"
     },
     "output_type": "display_data"
    }
   ],
   "source": [
    "fig, axes = plt.subplots(3,len(pairwise_models['long_run'].keys()), figsize=[12,8])\n",
    "\n",
    "i = 0\n",
    "for b, model in pairwise_models['long_run'].items():  \n",
    "    plot_single_heatmap(model, 'Batch size: ' + str(b), ax=axes[0, i], clim=[-1,1],\n",
    "                       xlabels=['0','6', '8a', '11'])\n",
    "    plot_learning_history(model, 'Bits', ax=axes[1, i])\n",
    "    plot_loss_history(model, 'Loss',ax=axes[2, i])\n",
    "    i += 1\n",
    "\n",
    "fig.tight_layout(w_pad=3)\n",
    "plt.show()"
   ]
  },
  {
   "cell_type": "markdown",
   "metadata": {},
   "source": [
    "### Non-linear initialisation"
   ]
  },
  {
   "cell_type": "code",
   "execution_count": null,
   "metadata": {},
   "outputs": [],
   "source": [
    "pairwise_models['non-linear'] = OrderedDict()"
   ]
  },
  {
   "cell_type": "code",
   "execution_count": null,
   "metadata": {},
   "outputs": [],
   "source": [
    "for n in [50, 100, 150, 200]:\n",
    "    start_time = time.time()\n",
    "    model = train_mave_model(gpmap='pairwise', mpa_hidden_nodes=n, learning_rate=0.001, epochs=200, batch_size=1000, stop=False, lin_init=False)\n",
    "    \n",
    "    # Report fitting time\n",
    "    training_time = time.time()-start_time\n",
    "    print('Hidden nodes: ' + str(n) + f', inference time: {training_time:.2f} seconds')\n",
    "   \n",
    "    pairwise_models['non-linear'][n] = model"
   ]
  },
  {
   "cell_type": "code",
   "execution_count": null,
   "metadata": {},
   "outputs": [],
   "source": [
    "fig, axes = plt.subplots(3,len(pairwise_models['non-linear'].keys()), figsize=[10,7])\n",
    "\n",
    "i = 0\n",
    "for b, model in pairwise_models['non-linear'].items():  \n",
    "    plot_single_heatmap(model, 'Batch size: ' + str(b), ax=axes[0, i], clim=[-2,2])\n",
    "    plot_learning_history(model, ax=axes[1, i])\n",
    "    plot_loss_history(model, ax=axes[2, i])\n",
    "    i += 1\n",
    "\n",
    "fig.tight_layout(w_pad=3)\n",
    "plt.show()"
   ]
  },
  {
   "cell_type": "markdown",
   "metadata": {},
   "source": [
    "### Blackbox model"
   ]
  },
  {
   "cell_type": "code",
   "execution_count": null,
   "metadata": {},
   "outputs": [],
   "source": [
    "pairwise_models['blackbox'] = OrderedDict()\n",
    "\n",
    "for n in [50, 100, 150, 200]:\n",
    "    start_time = time.time()\n",
    "    model = train_mave_model(gpmap='blackbox', mpa_hidden_nodes=n, learning_rate=0.001, epochs=200, batch_size=1000, stop=False)\n",
    "    \n",
    "    # Report fitting time\n",
    "    training_time = time.time()-start_time\n",
    "    print('Hidden nodes: ' + str(n) + f', inference time: {training_time:.2f} seconds')\n",
    "   \n",
    "    pairwise_models['blackbox'][n] = model"
   ]
  },
  {
   "cell_type": "code",
   "execution_count": null,
   "metadata": {},
   "outputs": [],
   "source": [
    "fig, axes = plt.subplots(3,len(pairwise_models['blackbox'].keys()), figsize=[10,7])\n",
    "\n",
    "i = 0\n",
    "for n, model in pairwise_models['non-linear'].items():  \n",
    "    plot_single_heatmap(model, 'Nodes: ' + str(n), ax=axes[0, i], clim=[-2,2])\n",
    "    plot_learning_history(model, ax=axes[1, i])\n",
    "    plot_loss_history(model, ax=axes[2, i])\n",
    "    i += 1\n",
    "\n",
    "fig.tight_layout(w_pad=3)\n",
    "plt.show()"
   ]
  },
  {
   "cell_type": "code",
   "execution_count": null,
   "metadata": {},
   "outputs": [],
   "source": [
    "blackbox_models = {k: OrderedDict() for k in ['gpmap_tpye', 'mpa_hidden_nodes', 'learning_rate', 'epochs', 'batch_size']}"
   ]
  },
  {
   "cell_type": "code",
   "execution_count": null,
   "metadata": {},
   "outputs": [],
   "source": [
    "for r in [0.01,0.005, 0.001, 0.0001]:\n",
    "    start_time = time.time()\n",
    "    model = train_mave_model(gpmap='blackbox', mpa_hidden_nodes=100, learning_rate= r, epochs=200, batch_size=1000, stop=False)\n",
    "    \n",
    "    # Report fitting time\n",
    "    training_time = time.time()-start_time\n",
    "    print('Hidden nodes: ' + str(r) + f', inference time: {training_time:.2f} seconds')\n",
    "   \n",
    "    blackbox_models['learning_rate'][r] = model"
   ]
  },
  {
   "cell_type": "code",
   "execution_count": null,
   "metadata": {},
   "outputs": [],
   "source": [
    "fig, axes = plt.subplots(3,len(blackbox_models['learning_rate'].keys()), figsize=[10,7])\n",
    "\n",
    "i = 0\n",
    "for r, model in blackbox_models['learning_rate'].items():  \n",
    "    plot_single_heatmap(model, 'Learning rate: ' + str(r), ax=axes[0, i], clim=[-0.5,0.5])\n",
    "    plot_learning_history(model, ax=axes[1, i])\n",
    "    plot_loss_history(model, ax=axes[2, i])\n",
    "    i += 1\n",
    "\n",
    "fig.tight_layout(w_pad=3)\n",
    "plt.show()"
   ]
  },
  {
   "cell_type": "markdown",
   "metadata": {},
   "source": [
    "Blackbox models aren't really any better."
   ]
  },
  {
   "cell_type": "code",
   "execution_count": null,
   "metadata": {},
   "outputs": [],
   "source": []
  }
 ],
 "metadata": {
  "kernelspec": {
   "display_name": "Python 3",
   "language": "python",
   "name": "python3"
  },
  "language_info": {
   "codemirror_mode": {
    "name": "ipython",
    "version": 3
   },
   "file_extension": ".py",
   "mimetype": "text/x-python",
   "name": "python",
   "nbconvert_exporter": "python",
   "pygments_lexer": "ipython3",
   "version": "3.7.3"
  }
 },
 "nbformat": 4,
 "nbformat_minor": 2
}
