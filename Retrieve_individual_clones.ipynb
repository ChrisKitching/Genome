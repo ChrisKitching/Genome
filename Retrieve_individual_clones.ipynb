{
 "cells": [
  {
   "cell_type": "markdown",
   "metadata": {},
   "source": [
    "* Load up the sequencing counts produced by proteins.py\n",
    "* Combine data from two sequencing gates\n",
    "* Take input FASTA files\n",
    "* Perform needle alignment for input files\n",
    "* Retrieve counts from sequencing for those variants"
   ]
  },
  {
   "cell_type": "code",
   "execution_count": null,
   "metadata": {},
   "outputs": [],
   "source": [
    "# Perform the initialization and imports\n",
    "import sys\n",
    "import pickle\n",
    "import re\n",
    "import os\n",
    "import csv\n",
    "import argparse\n",
    "import math\n",
    "import pprint\n",
    "\n",
    "from string import ascii_lowercase\n",
    "from collections import Counter, defaultdict\n",
    "\n",
    "import pandas as pd\n",
    "import matplotlib.pyplot as plt\n",
    "import seaborn as sns\n",
    "\n",
    "from Bio import SeqIO, AlignIO\n",
    "from Bio.SeqRecord import SeqRecord\n",
    "from Bio.Alphabet import IUPAC\n",
    "from Bio.Seq import Seq\n",
    "from Bio.Emboss.Applications import NeedleallCommandline\n",
    "\n",
    "# Demand Python 3.\n",
    "if sys.version_info[0] < 3:\n",
    "    print(\"Python 3 is required, but you are using Python %i.%i.%i\") % (\n",
    "        sys.version_info[0], sys.version_info[1], sys.version_info[2])\n",
    "    sys.exit(1)\n",
    "\n"
   ]
  },
  {
   "cell_type": "markdown",
   "metadata": {},
   "source": [
    "This cell specifies where the InDelScanner scripts are located: modify `indels_path` as needed."
   ]
  },
  {
   "cell_type": "code",
   "execution_count": null,
   "metadata": {},
   "outputs": [],
   "source": [
    "# Retrieve the specific functions from ind and proteins.py\n",
    "indels_path=\"/home/maya/InDelScanner\"  # /PATH/TO/InDelScanner\n",
    "if indels_path not in sys.path:\n",
    "    sys.path.append(indels_path)\n",
    "from indels.ind import trim_read, findEnds, endMatch, findGap, gapAlign\n",
    "from indels.proteins import protein_needle"
   ]
  },
  {
   "cell_type": "code",
   "execution_count": null,
   "metadata": {},
   "outputs": [],
   "source": []
  },
  {
   "cell_type": "markdown",
   "metadata": {},
   "source": [
    "Change directory to where the sequencing count dictionaries are located, load them and combine counts to get the `mek` Counter containing sequencing results."
   ]
  },
  {
   "cell_type": "code",
   "execution_count": null,
   "metadata": {},
   "outputs": [],
   "source": [
    "os.chdir(\"/mnt/c/Users/Maya/VMShare/mek_results\")\n",
    "\n",
    "with open('Remkes_protein.p', 'rb') as f:\n",
    "    all_ref = pickle.load(f)\n",
    "with open('Remkes_protein_low.p', 'rb') as f:\n",
    "    low = pickle.load(f)\n",
    "\n",
    "all_ref['mek']['low-v2'] = low['mek']['low-v2']\n",
    "\n",
    "mek = {}\n",
    "for fraction in ['high', 'med']:\n",
    "    mek[fraction] = Counter(all_ref['mek'][fraction])\n",
    "mek['low-t'] = Counter(all_ref['mek']['low']) + Counter(all_ref['mek']['low-v2'])"
   ]
  },
  {
   "cell_type": "code",
   "execution_count": null,
   "metadata": {},
   "outputs": [],
   "source": [
    "# Extract information from individually sequenced clones\n",
    "\n",
    "def retrieve_ind_clones(mek, filename, outfile):\n",
    "\n",
    "    columns = ['Sample', 'Protein'] + list(mek.keys())\n",
    "\n",
    "    with open(outfile, 'w') as f:\n",
    "        writer = csv.DictWriter(f, delimiter=',', fieldnames=columns)\n",
    "        writer.writeheader()\n",
    "\n",
    "        for pair in AlignIO.parse(filename, \"fasta\", seq_count=2):\n",
    "            # both read and ref are MutableSeq\n",
    "            ref = str(pair[0].seq)\n",
    "            read = str(pair[1].seq)\n",
    "            readname = pair[1].id\n",
    "\n",
    "            ref, read = trim_read(ref, read)\n",
    "\n",
    "            # check that there is no frame shift or gross mistranslation\n",
    "            ends = findEnds(read, ref, 0)\n",
    "            if not endMatch(read, ref, ends, 2):\n",
    "                continue\n",
    "\n",
    "            protein = find_protein_short(read, ref, ends)\n",
    "            row = {'Sample': readname, 'Protein': protein}\n",
    "            for fraction in mek.keys():\n",
    "                row[fraction] = mek[fraction][protein]\n",
    "\n",
    "            writer.writerow(row)\n",
    "    \n"
   ]
  },
  {
   "cell_type": "code",
   "execution_count": null,
   "metadata": {},
   "outputs": [],
   "source": [
    "aln_file = protein_needle('FRET tested.fasta', args.reference)\n",
    "retrieve_ind_clones(mek, 'FRET tested.aln', 'FRET_counts.csv')"
   ]
  }
 ],
 "metadata": {
  "kernelspec": {
   "display_name": "Python 3",
   "language": "python",
   "name": "python3"
  },
  "language_info": {
   "codemirror_mode": {
    "name": "ipython",
    "version": 3
   },
   "file_extension": ".py",
   "mimetype": "text/x-python",
   "name": "python",
   "nbconvert_exporter": "python",
   "pygments_lexer": "ipython3",
   "version": "3.7.3"
  }
 },
 "nbformat": 4,
 "nbformat_minor": 2
}
