{
 "cells": [
  {
   "cell_type": "markdown",
   "metadata": {},
   "source": [
    "* Load up the sequencing counts produced by proteins.py\n",
    "* Combine data from two sequencing gates\n",
    "* Take input FASTA files\n",
    "* Perform needle alignment for input files\n",
    "* Retrieve counts from sequencing for those variants"
   ]
  },
  {
   "cell_type": "code",
   "execution_count": 35,
   "metadata": {},
   "outputs": [],
   "source": [
    "# Perform the initialization and imports\n",
    "import sys\n",
    "import pickle\n",
    "import re\n",
    "import os\n",
    "import csv\n",
    "import argparse\n",
    "import math\n",
    "import pprint\n",
    "\n",
    "from string import ascii_lowercase\n",
    "from collections import Counter, defaultdict\n",
    "\n",
    "import pandas as pd\n",
    "import matplotlib.pyplot as plt\n",
    "#import seaborn as sns   This is just for plots\n",
    "\n",
    "from Bio import SeqIO, AlignIO\n",
    "from Bio.SeqRecord import SeqRecord\n",
    "from Bio.Alphabet import IUPAC\n",
    "from Bio.Seq import Seq\n",
    "from Bio.Emboss.Applications import NeedleallCommandline\n",
    "\n",
    "# Demand Python 3.\n",
    "if sys.version_info[0] < 3:\n",
    "    print(\"Python 3 is required, but you are using Python %i.%i.%i\") % (\n",
    "        sys.version_info[0], sys.version_info[1], sys.version_info[2])\n",
    "    sys.exit(1)\n",
    "\n"
   ]
  },
  {
   "cell_type": "markdown",
   "metadata": {},
   "source": [
    "This cell specifies where the InDelScanner scripts are located: modify `indels_path` as needed."
   ]
  },
  {
   "cell_type": "code",
   "execution_count": 5,
   "metadata": {},
   "outputs": [],
   "source": [
    "# Retrieve the specific functions from ind and proteins.py\n",
    "indels_path=\"/home/maya/InDelScanner\"  # /PATH/TO/InDelScanner\n",
    "if indels_path not in sys.path:\n",
    "    sys.path.append(indels_path)\n",
    "from indels.ind import trim_read, findEnds, endMatch, findGap, gapAlign"
   ]
  },
  {
   "cell_type": "code",
   "execution_count": 31,
   "metadata": {},
   "outputs": [],
   "source": [
    "def protein_needle(prot_files, reffile):\n",
    "    \"\"\"\n",
    "    Use the Emboss Needle package to align fastq read to reference, return trimmed reads from the alignment\n",
    "    :param prot_files: list of fastq file\n",
    "    :param reffile: name of reference file\n",
    "    :return:\n",
    "    \"\"\"\n",
    "    aln_files = []\n",
    "\n",
    "    for fqname in prot_files:\n",
    "        prefix, suffix = os.path.splitext(fqname)\n",
    "        alnname = prefix + '.aln'\n",
    "        needle_cline = NeedleallCommandline(r'needleall', asequence=reffile, bsequence=fqname,\n",
    "                                            gapopen=3, gapextend=5, \n",
    "                                            verbose=False, outfile=alnname, aformat='fasta')\n",
    "        needle_cline()\n",
    "        aln_files.append(alnname)\n",
    "\n",
    "    return aln_files"
   ]
  },
  {
   "cell_type": "markdown",
   "metadata": {},
   "source": [
    "Change directory to where the sequencing count dictionaries are located, load them and combine counts to get the `mek` Counter containing sequencing results."
   ]
  },
  {
   "cell_type": "code",
   "execution_count": 18,
   "metadata": {},
   "outputs": [],
   "source": [
    "os.chdir(\"/mnt/c/Users/Maya/Dropbox/mek_results\")\n",
    "\n",
    "with open('Remkes_protein.p', 'rb') as f:\n",
    "    all_ref = pickle.load(f)\n",
    "with open('Remkes_protein_low.p', 'rb') as f:\n",
    "    low = pickle.load(f)\n",
    "\n",
    "all_ref['mek']['low-v2'] = low['mek']['low-v2']\n",
    "\n",
    "mek = {}\n",
    "for fraction in ['high', 'med']:\n",
    "    mek[fraction] = Counter(all_ref['mek'][fraction])\n",
    "mek['low-t'] = Counter(all_ref['mek']['low']) + Counter(all_ref['mek']['low-v2'])"
   ]
  },
  {
   "cell_type": "code",
   "execution_count": 36,
   "metadata": {},
   "outputs": [],
   "source": [
    "def find_protein_short(read, ref, ends):\n",
    "\n",
    "    prot_short = []\n",
    "\n",
    "    i = ends.get('start')\n",
    "    ref_index = ends.get('start') + 1  # reference amino acid index\n",
    "\n",
    "    while i < ends.get('end'):\n",
    "        if read[i] != ref[i]:  # found a mutation\n",
    "            if read[i] == '-':  # found a deletions\n",
    "                prot_short.append(str(ref_index) + 'Δ')\n",
    "                i += 1\n",
    "                ref_index += 1\n",
    "            elif ref[i] == '-':  # found an insertion\n",
    "                # check the length: to handle insertions of multiple AAs correctly\n",
    "                l = indel_len(ref, i)\n",
    "                stop, inslist = format_prot_insertion(ref_index - 1, read[i:i+l])\n",
    "                prot_short += inslist  # adding two lists together\n",
    "                if stop:\n",
    "                    break\n",
    "                i += l\n",
    "            else:  # substitutions\n",
    "                prot_short.append(str(ref_index) + read[i])\n",
    "                i += 1\n",
    "                ref_index += 1\n",
    "        else:\n",
    "            i += 1\n",
    "            ref_index += 1\n",
    "\n",
    "    if prot_short == []:\n",
    "        short = 'wt'\n",
    "    else:\n",
    "        short = '/'.join(prot_short)\n",
    "\n",
    "    return short"
   ]
  },
  {
   "cell_type": "code",
   "execution_count": 24,
   "metadata": {},
   "outputs": [],
   "source": [
    "# Extract information from individually sequenced clones\n",
    "def retrieve_ind_clones(mek, filename, outfile):\n",
    "\n",
    "    columns = ['Sample', 'Protein'] + list(mek.keys())\n",
    "\n",
    "    with open(outfile, 'w') as f:\n",
    "        writer = csv.DictWriter(f, delimiter=',', fieldnames=columns)\n",
    "        writer.writeheader()\n",
    "\n",
    "        for pair in AlignIO.parse(filename, \"fasta\", seq_count=2):\n",
    "            # both read and ref are MutableSeq\n",
    "            ref = str(pair[0].seq)\n",
    "            read = str(pair[1].seq)\n",
    "            readname = pair[1].id\n",
    "\n",
    "            ref, read = trim_read(ref, read)\n",
    "\n",
    "            # check that there is no frame shift or gross mistranslation\n",
    "            ends = findEnds(read, ref, 0)\n",
    "            if not endMatch(read, ref, ends, 2):\n",
    "                continue\n",
    "\n",
    "            protein = find_protein_short(read, ref, ends)\n",
    "            print(protein)\n",
    "            row = {'Sample': readname, 'Protein': protein}\n",
    "            for fraction in mek.keys():\n",
    "                row[fraction] = mek[fraction][protein]\n",
    "\n",
    "            writer.writerow(row)\n",
    "    \n"
   ]
  },
  {
   "cell_type": "code",
   "execution_count": 32,
   "metadata": {},
   "outputs": [
    {
     "name": "stdout",
     "output_type": "stream",
     "text": [
      "['PosNeg.aln']\n"
     ]
    }
   ],
   "source": [
    "aln_file = protein_needle(['PosNeg.fa'], 'Xref.fa')\n"
   ]
  },
  {
   "cell_type": "code",
   "execution_count": 37,
   "metadata": {},
   "outputs": [
    {
     "name": "stdout",
     "output_type": "stream",
     "text": [
      "6P/9I/11L/13P\n",
      "6P/9A/11A/13P\n"
     ]
    }
   ],
   "source": [
    "retrieve_ind_clones(mek, aln_file[0], 'PosNeg_counts.csv')"
   ]
  },
  {
   "cell_type": "code",
   "execution_count": null,
   "metadata": {},
   "outputs": [],
   "source": []
  }
 ],
 "metadata": {
  "kernelspec": {
   "display_name": "Python 3",
   "language": "python",
   "name": "python3"
  },
  "language_info": {
   "codemirror_mode": {
    "name": "ipython",
    "version": 3
   },
   "file_extension": ".py",
   "mimetype": "text/x-python",
   "name": "python",
   "nbconvert_exporter": "python",
   "pygments_lexer": "ipython3",
   "version": "3.7.3"
  }
 },
 "nbformat": 4,
 "nbformat_minor": 4
}
